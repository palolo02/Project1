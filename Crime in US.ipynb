{
 "cells": [
  {
   "cell_type": "markdown",
   "metadata": {},
   "source": [
    "# Crime in US\n",
    "\n",
    "As we live in a society constantly exposed to violence from several sources of information, social media has played a crucial role in not only sharing violent situations instantaneously, but also in providing more data to get a better understanding of when, how and why those complex problems occured in the past. In US, for instance, incidents involving guns have rapidly increased over the last 5 years. However, we barely know some of the social factors that contribute to this interesting numbers and we now have the possibility to dig further into these conditions and have a fresh perspective that may explain some unhiden patterns that may lead to interesting steps in preventing them to happen so often. "
   ]
  },
  {
   "cell_type": "markdown",
   "metadata": {},
   "source": [
    "# Hypothesis"
   ]
  },
  {
   "cell_type": "markdown",
   "metadata": {},
   "source": [
    "1. Main factors why violence occurs in US (rel)\n",
    "2. Males participate more in violent incidents in comparisson with Women.\n",
    "3. Incidents where the perpetrator knows the victim are more deadly than those in which is unknown.\n",
    "4. Southern states (near Mexico) present higher levels of violence \n",
    "4. Gun permission vs deaths\n",
    "\n",
    "Pittsburgh\n",
    "1. Income vs Crime (rel)\n",
    "3. Education vs Crime (pending)\n"
   ]
  },
  {
   "cell_type": "markdown",
   "metadata": {},
   "source": [
    "Intento 2- espero sirva"
   ]
  },
  {
   "cell_type": "markdown",
   "metadata": {},
   "source": []
  },
  {
   "cell_type": "markdown",
   "metadata": {},
   "source": [
    "# Why are we focusing on these questions?\n",
    "Describe the questions you and your group found interesting, and what motivated you to answer them "
   ]
  },
  {
   "cell_type": "markdown",
   "metadata": {},
   "source": [
    "#### 1. Main factors why violence occurs in US (rel)\n",
    "\n",
    "\n",
    "#### 2. Males participate more in violent incidents in comparison with Women.\n",
    "Research has shown that when it comes to violent crimes, Male could act more aggresive than Women. While this can be explained  because of the impact of environmental and biological traits on each gender, there is no doubt that men present higher levels of  physical violence and verbal abuse than women. In fact, women show an indirect aggresive behavior such as hurt other's reputation by spreading rumors or damage their social standing. Therefore, we would like to know if this aggression is also presented in the gun violence in the US. We consider it an intriguing topic which we could hopefully answer in the data.\n",
    "\n",
    "#### 3. Incidents where the perpetrator'knows' the victim are more deadly than those in which is 'unknown', like robberies.\n",
    "This statement came to this list after exploring some data and realizing that not only mass shootings or robbery occur in the US, but also sentimental tragedies in close relationships. Due to the fact that these unfortunate events happen frequently, we suggest that those moments in which the suspect knows the victim(s) and perpetrate crimes result in lethal results in contrast with those in which there is only a robbery.\n",
    "\n",
    "#### 4. Southern states (near Mexico) present higher deaths than other locations  in US\n",
    "Drug issues in states near the border from Mexico is a familiar problem where even the current administration in USA has established several approaches to effectively limit this consumption with no successful results. Therefore, we think that there might be a possible correlation between the number of deaths and the location.\n",
    "\n",
    "## Why Pittsburgh?\n",
    "It turns out that Pennsylvania is one of the states with an important decrease in the number of violent incidents per year. There must be some social, economical and even educational factors that have contributed to reach those indicators. Along with information we found about Pittsburg, a city within Pennsylvania, we think that we can explain the reason why this has happened.\n",
    "\n",
    "#### 1. Income vs Crime (rel)\n",
    "#### 2. Education vs Crime (pending)"
   ]
  },
  {
   "cell_type": "code",
   "execution_count": null,
   "metadata": {},
   "outputs": [],
   "source": [
    "Lau: "
   ]
  },
  {
   "cell_type": "code",
   "execution_count": null,
   "metadata": {},
   "outputs": [],
   "source": [
    "Paolo: This is  my text contrinution ... here I will explain Pittsburgh"
   ]
  },
  {
   "cell_type": "code",
   "execution_count": null,
   "metadata": {},
   "outputs": [],
   "source": [
    "Mike: "
   ]
  },
  {
   "cell_type": "markdown",
   "metadata": {},
   "source": [
    "# Datasources\n",
    "Summarize where and how you found the data you used to answer these questions "
   ]
  },
  {
   "cell_type": "markdown",
   "metadata": {},
   "source": [
    "### 1. Gun Data (csv)\n",
    "\"Gun Violence Archive (GVA) is a not for profit corporation formed in 2013 to provide free online public access to accurate information about gun-related violence in the United States. GVA will collect and check for accuracy, comprehensive information about gun-related violence in the U.S. and then post and disseminate it online.\" - Kaggle"
   ]
  },
  {
   "cell_type": "code",
   "execution_count": null,
   "metadata": {},
   "outputs": [],
   "source": [
    "Lau: PRUEBA CON PAOLO"
   ]
  },
  {
   "cell_type": "code",
   "execution_count": null,
   "metadata": {},
   "outputs": [],
   "source": [
    "Paolo:"
   ]
  },
  {
   "cell_type": "code",
   "execution_count": null,
   "metadata": {},
   "outputs": [],
   "source": [
    "Mike: "
   ]
  },
  {
   "cell_type": "markdown",
   "metadata": {},
   "source": [
    "# Cleanup process"
   ]
  },
  {
   "cell_type": "markdown",
   "metadata": {},
   "source": [
    "#### 1. Gun Data (csv)\n",
    "##### Challenges:\n",
    "    1. Large datafile (> 200K rows)\n",
    "    2. Memory consumption\n",
    "    3. Web scrapping files (fields with || or :: patterns)\n",
    "    4. Information with missing values\n",
    "    5. Save/Load pickle files (optimize data loading)\n",
    "\n",
    "##### Approach:\n",
    "    1. Chunk size to optimize loading requests in large csv file to avoid memory consumption errors.\n",
    "    2. Manipulate each set of data according to some patterns for each column to build independent dataframes (python definition).\n",
    "    3. Process and store cleaned dataframes in pickle objects.\n",
    "    4. Load stored dataframes to facilitate their processing."
   ]
  },
  {
   "cell_type": "code",
   "execution_count": null,
   "metadata": {},
   "outputs": [],
   "source": [
    "# Import dependencies\n",
    "import pandas as pd\n",
    "import numpy as np\n",
    "import calendar\n",
    "import matplotlib.pyplot as plt\n",
    "from scipy.stats import linregress\n",
    "from scipy import stats\n",
    "from functions import splitColumnsDF\n",
    "from functions import readWholeDataset"
   ]
  },
  {
   "cell_type": "code",
   "execution_count": null,
   "metadata": {},
   "outputs": [],
   "source": [
    "Lau: Data cleaning ---Miguel Rojas"
   ]
  },
  {
   "cell_type": "code",
   "execution_count": null,
   "metadata": {},
   "outputs": [],
   "source": [
    "# ================ Import Data gun file  ========================\n",
    "urlGunViolence = \"../gun-violence-data_01-2013_03-2018.csv\"\n",
    "# Read whole dataset\n",
    "readWholeDataset(urlGunViolence)\n",
    "\n",
    "# ================= Loading cleaned data  ===================== \n",
    "try:\n",
    "    print(\"Loading files\")\n",
    "    gunViolenceDf = pd.read_pickle(\"Resources/gunViolence.pkl\")\n",
    "    print(\"Loading gunViolenceDf\")\n",
    "    gunStolenDF = pd.read_pickle(\"Resources/gunStolen.pkl\")\n",
    "    print(\"Loading gunStolenDF\")\n",
    "    gunTypeDF = pd.read_pickle(\"Resources/gunType.pkl\")\n",
    "    print(\"Loading gunTypeDF\")\n",
    "    ageDF = pd.read_pickle(\"Resources/age.pkl\")\n",
    "    print(\"Loading ageDF\")\n",
    "    ageGroupDF = pd.read_pickle(\"Resources/ageGroup.pkl\")\n",
    "    print(\"Loading ageGroupDF\")\n",
    "    genderDF = pd.read_pickle(\"Resources/gender.pkl\")\n",
    "    print(\"Loading genderDF\")\n",
    "    relationshipDF = pd.read_pickle(\"Resources/relationship.pkl\")\n",
    "    print(\"Loading relationshipDF\")\n",
    "    statusDF = pd.read_pickle(\"Resources/status.pkl\")\n",
    "    print(\"Loading statusDF\")\n",
    "    typeDF = pd.read_pickle(\"Resources/type.pkl\")\n",
    "    print(\"Loading typeDF\")\n",
    "except Exception:\n",
    "    print(\"No pickle files found\")"
   ]
  },
  {
   "cell_type": "code",
   "execution_count": null,
   "metadata": {},
   "outputs": [],
   "source": [
    "Mike:"
   ]
  },
  {
   "cell_type": "markdown",
   "metadata": {},
   "source": [
    "# Data Exploration\n",
    "\n",
    "1. Incidents per year [2014-2017]\n",
    "2. Top 10\n",
    "3. Bottom 10\n",
    "4. "
   ]
  },
  {
   "cell_type": "code",
   "execution_count": null,
   "metadata": {},
   "outputs": [],
   "source": [
    "Lau:"
   ]
  },
  {
   "cell_type": "code",
   "execution_count": null,
   "metadata": {},
   "outputs": [],
   "source": [
    "Paolo:"
   ]
  },
  {
   "cell_type": "code",
   "execution_count": null,
   "metadata": {},
   "outputs": [],
   "source": [
    "Mike:"
   ]
  },
  {
   "cell_type": "markdown",
   "metadata": {},
   "source": [
    "# Describe the analysis process (accompanied by your Jupyter Notebook) "
   ]
  },
  {
   "cell_type": "markdown",
   "metadata": {},
   "source": [
    "1. Correlations & distribution graphs"
   ]
  },
  {
   "cell_type": "code",
   "execution_count": null,
   "metadata": {},
   "outputs": [],
   "source": [
    "Lau:"
   ]
  },
  {
   "cell_type": "code",
   "execution_count": null,
   "metadata": {},
   "outputs": [],
   "source": [
    "Paolo:"
   ]
  },
  {
   "cell_type": "code",
   "execution_count": null,
   "metadata": {},
   "outputs": [],
   "source": [
    "Mike:"
   ]
  },
  {
   "cell_type": "markdown",
   "metadata": {},
   "source": [
    "# Summarize your conclusions. This should include a numerical summary (i.e., what data did your analysis yield), as well as visualizations of that summary (plots of the final analysis data) "
   ]
  },
  {
   "cell_type": "markdown",
   "metadata": {},
   "source": [
    "1. Main factors why violence occurs in US (rel)\n",
    "2. Gender => affect violent incidents\n",
    "3. Type of crime => affect violent incidents\n",
    "4. Gun permission vs deaths\n",
    "\n",
    "Pittsburgh\n",
    "1. Income vs Crime (rel)\n",
    "2. Education vs Crime (pending)"
   ]
  },
  {
   "cell_type": "code",
   "execution_count": null,
   "metadata": {},
   "outputs": [],
   "source": [
    "Lau:"
   ]
  },
  {
   "cell_type": "code",
   "execution_count": null,
   "metadata": {},
   "outputs": [],
   "source": [
    "Paolo:"
   ]
  },
  {
   "cell_type": "code",
   "execution_count": null,
   "metadata": {},
   "outputs": [],
   "source": [
    "Mike:"
   ]
  },
  {
   "cell_type": "markdown",
   "metadata": {},
   "source": [
    "# Discuss the implications of your findings. This is where you get to have an open-ended discussion about what your findings \"mean\". "
   ]
  },
  {
   "cell_type": "markdown",
   "metadata": {},
   "source": [
    "1. Main factors why violence occurs in US (rel)\n",
    "2. Gender => affect violent incidents\n",
    "3. Type of crime => affect violent incidents\n",
    "4. Gun permission vs deaths\n",
    "\n",
    "Pittsburgh\n",
    "1. Income vs Crime (rel)\n",
    "2. Education vs Crime (pending)"
   ]
  },
  {
   "cell_type": "code",
   "execution_count": null,
   "metadata": {},
   "outputs": [],
   "source": [
    "Lau:"
   ]
  },
  {
   "cell_type": "code",
   "execution_count": null,
   "metadata": {},
   "outputs": [],
   "source": [
    "Paolo:"
   ]
  },
  {
   "cell_type": "code",
   "execution_count": null,
   "metadata": {},
   "outputs": [],
   "source": [
    "Mike:"
   ]
  }
 ],
 "metadata": {
  "kernelspec": {
   "display_name": "Python 3",
   "language": "python",
   "name": "python3"
  },
  "language_info": {
   "codemirror_mode": {
    "name": "ipython",
    "version": 3
   },
   "file_extension": ".py",
   "mimetype": "text/x-python",
   "name": "python",
   "nbconvert_exporter": "python",
   "pygments_lexer": "ipython3",
   "version": "3.8.0"
  }
 },
 "nbformat": 4,
 "nbformat_minor": 4
}
