{
 "cells": [
  {
   "cell_type": "code",
   "execution_count": 1,
   "metadata": {},
   "outputs": [],
   "source": [
    "# Import dependencies\n",
    "import pandas as pd\n",
    "import numpy as np\n",
    "import calendar"
   ]
  },
  {
   "cell_type": "code",
   "execution_count": 90,
   "metadata": {},
   "outputs": [],
   "source": [
    "# ==================================================\n",
    "# Function to clean data \n",
    "# Objective: Split the text that comes with the '||' format to separate the categories for each column\n",
    "# Parameters:\n",
    "#     df = DataFrame to use\n",
    "#     indx = Main column to merge with the original DataFrame\n",
    "#     col = Name of the colum to clean within the original DataFrame\n",
    "#     txtRemove = Category we need to remove after cleansing process\n",
    "# ==================================================\n",
    "\n",
    "def splitColumnsDF(df, indx, col, txtRemove = \"\"):\n",
    "    \n",
    "    # Identify DataFrame to clean all columns    \n",
    "    tempDF = df[[indx,col]]\n",
    "    \n",
    "    # Step 1 - Remove NaN - Need to fix this step\n",
    "    tempDF.dropna(how=\"all\",axis='columns')\n",
    "    tempDF = tempDF[tempDF[col].notna()]\n",
    "    \n",
    "    # Create empty dataframe\n",
    "    internalTempDf = pd.DataFrame(columns=[indx,col])\n",
    "    \n",
    "    # Iterate over the entire dataframe\n",
    "    for index, row in df.iterrows():\n",
    "        try:\n",
    "            # Identify how many | the text contains\n",
    "            n = row[col].count('|')\n",
    "            \n",
    "            # Split the text into || or | strings\n",
    "            if ( n >  0):\n",
    "                # Specify the type os separator the text has\n",
    "                if(n > 1):\n",
    "                    newColumns = row[col].split('||',int(n/2+1))\n",
    "                elif( n ==  1):\n",
    "                    newColumns = row[col].split('|',2)\n",
    "                i = 0\n",
    "                # Replace the unused text [#:: or #:] pattern\n",
    "                for i in range (0,len(newColumns)):\n",
    "                    # We make sure we have text to evaluate\n",
    "                    if(len(newColumns[i]) > 0):\n",
    "                        # Add cleaned text to the dataframe\n",
    "                        internalTempDf = internalTempDf.append({indx: row[indx], col: newColumns[i][newColumns[i].rfind(':')+1:]}, \n",
    "                                                               ignore_index=True)\n",
    "            \n",
    "            # There is no | in the text\n",
    "            else:\n",
    "                n = row[col].count(':')\n",
    "                # Verify if the text contains the [#:: or #:] pattern\n",
    "                if(n > 0):\n",
    "                    internalTempDf = internalTempDf.append({indx: row[indx], col: row[col][row[col].rfind(':')+1:]}, \n",
    "                                                           ignore_index=True)\n",
    "                else:\n",
    "                    internalTempDf = internalTempDf.append({indx: row[indx], col: row[col]}, \n",
    "                                                           ignore_index=True)\n",
    "                \n",
    "        except Exception as e:\n",
    "            continue\n",
    "            #print(\"There is an error while loading and processing the data\")\n",
    "            #print(f\"{row[col]} \\n {e}\")\n",
    "            \n",
    "    # Exclude specific categories\n",
    "    if (txtRemove != ''):\n",
    "        internalTempDf = internalTempDf.loc[internalTempDf[col] != txtRemove]\n",
    "\n",
    "    tempDF = internalTempDf\n",
    "    \n",
    "    \n",
    "    # Return the cleaned dataframe \n",
    "    return tempDF"
   ]
  },
  {
   "cell_type": "code",
   "execution_count": 12,
   "metadata": {},
   "outputs": [],
   "source": [
    "# Import Data gun file \n",
    "# Replace this by link below to get the complete data\n",
    "#urlGunViolence = \"https://drive.google.com/file/d/1akVNMxE4RR0_ySwakTfVx-OCmZQbskSD/view?usp=sharing\"\n",
    "# For testing purposes\n",
    "urlGunViolence = \"Resources/gun_violence_data_small.csv\"\n",
    "\n",
    "# load the data\n",
    "gunViolenceDf = pd.read_csv(urlGunViolence)\n",
    "\n",
    "# Add useful columsn for plots\n",
    "gunViolenceDf['date'] = pd.to_datetime(gunViolenceDf['date'])\n",
    "gunViolenceDf['year'] = gunViolenceDf['date'].dt.year\n",
    "gunViolenceDf['month'] = gunViolenceDf['date'].dt.month\n",
    "gunViolenceDf['monthday'] = gunViolenceDf['date'].dt.day\n",
    "gunViolenceDf['weekday'] = gunViolenceDf['date'].dt.weekday\n",
    "\n",
    "\n"
   ]
  },
  {
   "cell_type": "code",
   "execution_count": 103,
   "metadata": {
    "scrolled": true
   },
   "outputs": [],
   "source": [
    "# Starts cleaning data\n",
    "#display(gunViolenceDf.columns)\n",
    "#display(gunViolenceDf.head())\n",
    "\n",
    "# Cleaning categories\n",
    "#gunStolenDF = splitColumnsDF(gunViolenceDf,\"incident_id\",\"gun_stolen\", \"Unknown\")\n",
    "#gunTypeDF = splitColumnsDF(gunViolenceDf,\"incident_id\",\"gun_type\", \"Unknown\")\n",
    "######characteristicsDF = splitColumnsDF(gunViolenceDf,\"incident_id\",\"incident_characteristics\", \"Unknown\")\n",
    "#ageDF = splitColumnsDF(gunViolenceDf,\"incident_id\",\"participant_age\", \"Unknown\")\n",
    "#ageGroupDF = splitColumnsDF(gunViolenceDf,\"incident_id\",\"participant_age_group\", \"Unknown\")\n",
    "#genderDF = splitColumnsDF(gunViolenceDf,\"incident_id\",\"participant_gender\", \"Unknown\")\n",
    "#relationshipDF = splitColumnsDF(gunViolenceDf,\"incident_id\",\"participant_relationship\", \"Unknown\")\n",
    "#statusDF = splitColumnsDF(gunViolenceDf,\"incident_id\",\"participant_status\", \"Unknown\")\n",
    "#typeDF = splitColumnsDF(gunViolenceDf,\"incident_id\",\"participant_type\", \"Unknown\")\n",
    "\n",
    "# Function to clean all the columns within the DataFrame\n",
    "\n",
    "\n"
   ]
  },
  {
   "cell_type": "code",
   "execution_count": 104,
   "metadata": {},
   "outputs": [
    {
     "data": {
      "text/plain": [
       "array(['Not-stolen', 'Stolen'], dtype=object)"
      ]
     },
     "metadata": {},
     "output_type": "display_data"
    },
    {
     "data": {
      "text/plain": [
       "array(['Handgun', '22 LR', '223 Rem [AR-15]', 'Shotgun', '9mm', '45 Auto',\n",
       "       '12 gauge', '7.62 [AK-47]', '40 SW', '44 Mag', 'Other', '38 Spl',\n",
       "       '380 Auto', '410 gauge', '32 Auto', '308 Win', 'Rifle', '357 Mag',\n",
       "       '16 gauge', '30-30 Win', '25 Auto'], dtype=object)"
      ]
     },
     "metadata": {},
     "output_type": "display_data"
    },
    {
     "data": {
      "text/plain": [
       "array(['20', '25', '31', '33', '34', '29', '56', '18', '46', '14', '47',\n",
       "       '23', '55', '51', '40', '9', '5', '2', '15', '19', '28', '78',\n",
       "       '48', '24', '41', '22', '21', '39', '68', '35', '26', '69', '27',\n",
       "       '37', '17', '50', '42', '16', '13', '57', '66', '67', '62', '64',\n",
       "       '36', '43', '30', '32', '1', '3', '63', '10', '53', '60', '58',\n",
       "       '72', '45', '49', '12', '44', '70', '0', '54', '6', '38', '8', '4',\n",
       "       '7', '52', '79', '59', '11', '80', '73', '61', '85', '88', '71',\n",
       "       '89', '90', '65', '74', '75', '77', '86', '84', '76', '81', '96',\n",
       "       '83', '82', '87', '05', '03', '0.048611111', '08', '0.041666667',\n",
       "       '0.059027778', '0.045833333', '0.046527778', '01', '07',\n",
       "       '0.045138889'], dtype=object)"
      ]
     },
     "metadata": {},
     "output_type": "display_data"
    },
    {
     "data": {
      "text/plain": [
       "array(['Adult 18+', 'Teen 12-17', 'Child 0-11'], dtype=object)"
      ]
     },
     "metadata": {},
     "output_type": "display_data"
    },
    {
     "data": {
      "text/plain": [
       "array(['Male', 'Female'], dtype=object)"
      ]
     },
     "metadata": {},
     "output_type": "display_data"
    },
    {
     "data": {
      "text/plain": [
       "array(['Family', 'Drive by - Random victims', 'Aquaintance',\n",
       "       'Gang vs Gang', 'Significant others - current or former',\n",
       "       'Armed Robbery', 'Mass shooting - Random victims',\n",
       "       'Mass shooting - Perp Knows Victims', 'Co-worker', 'Neighbor',\n",
       "       'Friends', 'Home Invasion - Perp Does Not Know Victim',\n",
       "       'Home Invasion - Perp Knows Victim'], dtype=object)"
      ]
     },
     "metadata": {},
     "output_type": "display_data"
    },
    {
     "data": {
      "text/plain": [
       "array(['Arrested', 'Injured', 'Killed', 'Injured, Unharmed, Arrested',\n",
       "       'Unharmed, Arrested', 'Unharmed', 'Injured, Arrested',\n",
       "       'Killed, Unharmed, Arrested', 'Injured, Unharmed',\n",
       "       'Killed, Injured', 'Killed, Unharmed', 'Killed, Arrested'],\n",
       "      dtype=object)"
      ]
     },
     "metadata": {},
     "output_type": "display_data"
    },
    {
     "data": {
      "text/plain": [
       "array(['Victim', 'Subject-Suspect'], dtype=object)"
      ]
     },
     "metadata": {},
     "output_type": "display_data"
    }
   ],
   "source": [
    "display(gunStolenDF[\"gun_stolen\"].unique())\n",
    "display(gunTypeDF[\"gun_type\"].unique())\n",
    "display(ageDF[\"participant_age\"].unique())\n",
    "display(ageGroupDF[\"participant_age_group\"].unique())\n",
    "display(genderDF[\"participant_gender\"].unique())\n",
    "display(relationshipDF[\"participant_relationship\"].unique())\n",
    "display(statusDF[\"participant_status\"].unique())\n",
    "display(typeDF[\"participant_type\"].unique())\n",
    "\n"
   ]
  },
  {
   "cell_type": "code",
   "execution_count": null,
   "metadata": {
    "scrolled": true
   },
   "outputs": [],
   "source": []
  },
  {
   "cell_type": "code",
   "execution_count": null,
   "metadata": {},
   "outputs": [],
   "source": []
  }
 ],
 "metadata": {
  "kernelspec": {
   "display_name": "Python 3",
   "language": "python",
   "name": "python3"
  },
  "language_info": {
   "codemirror_mode": {
    "name": "ipython",
    "version": 3
   },
   "file_extension": ".py",
   "mimetype": "text/x-python",
   "name": "python",
   "nbconvert_exporter": "python",
   "pygments_lexer": "ipython3",
   "version": "3.8.0"
  }
 },
 "nbformat": 4,
 "nbformat_minor": 4
}
